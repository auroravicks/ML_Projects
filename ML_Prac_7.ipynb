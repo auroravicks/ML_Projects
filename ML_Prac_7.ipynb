{
  "nbformat": 4,
  "nbformat_minor": 0,
  "metadata": {
    "colab": {
      "provenance": [],
      "authorship_tag": "ABX9TyO7gNyUr1d5iD3umTgJjQTM"
    },
    "kernelspec": {
      "name": "python3",
      "display_name": "Python 3"
    },
    "language_info": {
      "name": "python"
    }
  },
  "cells": [
    {
      "cell_type": "code",
      "execution_count": null,
      "metadata": {
        "id": "L5gUH4TEHjIC"
      },
      "outputs": [],
      "source": [
        "import pandas as pd\n",
        "import numpy as np\n",
        "import statistics as st\n",
        "import math\n",
        "import matplotlib.pyplot as plt\n",
        "\n",
        "df=pd.read_csv('spotify dataset1.csv')"
      ]
    },
    {
      "cell_type": "code",
      "source": [
        "df.info()"
      ],
      "metadata": {
        "id": "NiqGoyl8IOHO",
        "colab": {
          "base_uri": "https://localhost:8080/"
        },
        "outputId": "b485c6d6-bcfa-4f89-8957-2d0ed65b3a92"
      },
      "execution_count": null,
      "outputs": [
        {
          "output_type": "stream",
          "name": "stdout",
          "text": [
            "<class 'pandas.core.frame.DataFrame'>\n",
            "RangeIndex: 149201 entries, 0 to 149200\n",
            "Data columns (total 19 columns):\n",
            " #   Column            Non-Null Count   Dtype  \n",
            "---  ------            --------------   -----  \n",
            " 0   acousticness      149201 non-null  float64\n",
            " 1   artists           149201 non-null  object \n",
            " 2   danceability      149201 non-null  float64\n",
            " 3   duration_ms       149201 non-null  int64  \n",
            " 4   energy            149201 non-null  float64\n",
            " 5   explicit          149201 non-null  int64  \n",
            " 6   id                149201 non-null  object \n",
            " 7   instrumentalness  149200 non-null  float64\n",
            " 8   key               149200 non-null  float64\n",
            " 9   liveness          149200 non-null  float64\n",
            " 10  loudness          149200 non-null  float64\n",
            " 11  mode              149200 non-null  float64\n",
            " 12  name              149200 non-null  object \n",
            " 13  popularity        149200 non-null  float64\n",
            " 14  release_date      149200 non-null  object \n",
            " 15  speechiness       149200 non-null  float64\n",
            " 16  tempo             149200 non-null  float64\n",
            " 17  valence           149200 non-null  float64\n",
            " 18  year              149200 non-null  float64\n",
            "dtypes: float64(13), int64(2), object(4)\n",
            "memory usage: 21.6+ MB\n"
          ]
        }
      ]
    },
    {
      "cell_type": "code",
      "source": [
        "a=df"
      ],
      "metadata": {
        "id": "vChpYtKCJBUD"
      },
      "execution_count": null,
      "outputs": []
    },
    {
      "cell_type": "code",
      "source": [
        "a.info()"
      ],
      "metadata": {
        "id": "01UKBjPbKENb",
        "colab": {
          "base_uri": "https://localhost:8080/"
        },
        "outputId": "a2aedee8-f713-4013-e350-b82b2c7d60d5"
      },
      "execution_count": null,
      "outputs": [
        {
          "output_type": "stream",
          "name": "stdout",
          "text": [
            "<class 'pandas.core.frame.DataFrame'>\n",
            "RangeIndex: 149201 entries, 0 to 149200\n",
            "Data columns (total 19 columns):\n",
            " #   Column            Non-Null Count   Dtype  \n",
            "---  ------            --------------   -----  \n",
            " 0   acousticness      149201 non-null  float64\n",
            " 1   artists           149201 non-null  object \n",
            " 2   danceability      149201 non-null  float64\n",
            " 3   duration_ms       149201 non-null  int64  \n",
            " 4   energy            149201 non-null  float64\n",
            " 5   explicit          149201 non-null  int64  \n",
            " 6   id                149201 non-null  object \n",
            " 7   instrumentalness  149200 non-null  float64\n",
            " 8   key               149200 non-null  float64\n",
            " 9   liveness          149200 non-null  float64\n",
            " 10  loudness          149200 non-null  float64\n",
            " 11  mode              149200 non-null  float64\n",
            " 12  name              149200 non-null  object \n",
            " 13  popularity        149200 non-null  float64\n",
            " 14  release_date      149200 non-null  object \n",
            " 15  speechiness       149200 non-null  float64\n",
            " 16  tempo             149200 non-null  float64\n",
            " 17  valence           149200 non-null  float64\n",
            " 18  year              149200 non-null  float64\n",
            "dtypes: float64(13), int64(2), object(4)\n",
            "memory usage: 21.6+ MB\n"
          ]
        }
      ]
    },
    {
      "cell_type": "code",
      "source": [
        "for i in a:\n",
        "  print(i)\n",
        "\n",
        "'''\n",
        "acousticness\n",
        "danceability\n",
        "energy\n",
        "instrumentalness(not)\n",
        "key\n",
        "liveness\n",
        "mode\n",
        "speechiness\n",
        "tempo\n",
        "valence\n",
        "'''"
      ],
      "metadata": {
        "id": "7MvmFHlPKs0B"
      },
      "execution_count": null,
      "outputs": []
    },
    {
      "cell_type": "code",
      "source": [
        "id=input('Enter id of song:')\n",
        "for i in range(len(a['id'])):\n",
        "  if a['id'][i]==id:\n",
        "    break\n",
        "ac=a['acousticness'][i]\n",
        "dab=a['danceability'][i]\n",
        "energy=a['energy'][i]\n",
        "key=a['key'][i]\n",
        "lv=a['liveness'][i]\n",
        "mode=a['mode'][i]\n",
        "spch=a['speechiness'][i]\n",
        "tmp=a['tempo'][i]\n",
        "vlc=a['valence'][i]"
      ],
      "metadata": {
        "colab": {
          "base_uri": "https://localhost:8080/"
        },
        "id": "-lLsmJ-fUAi1",
        "outputId": "c6350d0b-1aaf-4b12-923e-8dbda3416088"
      },
      "execution_count": null,
      "outputs": [
        {
          "name": "stdout",
          "output_type": "stream",
          "text": [
            "Enter id of song:60RFlt48hm0l4Fu0JoccOl\n"
          ]
        }
      ]
    },
    {
      "cell_type": "code",
      "source": [
        "ac=0.9\n",
        "dab=0.7\n",
        "energy=0.22\n",
        "key=6\n",
        "lv=0.5\n",
        "mode=5\n",
        "spch=0.005\n",
        "tmp=120\n",
        "vlc=0.7"
      ],
      "metadata": {
        "id": "qgAdYgb8MHYC"
      },
      "execution_count": null,
      "outputs": []
    },
    {
      "cell_type": "code",
      "source": [
        "lac=ldab=lenr=lk=llv=lm=lsp=ltmp=lvlc=[]\n",
        "for i in a['acousticness']:\n",
        "  lac.append((i-ac)**2)\n",
        "for i in a['danceability']:\n",
        "  ldab.append((i-dab)**2)\n",
        "for i in a['energy']:\n",
        "  lenr.append((i-energy)**2)\n",
        "for i in a['key']:\n",
        "  lk.append((i-key)**2)\n",
        "for i in a['liveness']:\n",
        "  llv.append((i-lv)**2)\n",
        "for i in a['mode']:\n",
        "  lm.append((i-mode)**2)\n",
        "for i in a['speechiness']:\n",
        "  lsp.append((i-spch)**2)\n",
        "for i in a['tempo']:\n",
        "  ltmp.append((i-tmp)**2)\n",
        "for i in a['valence']:\n",
        "  lvlc.append((i-vlc)**2)\n"
      ],
      "metadata": {
        "id": "lOqgZDnHOU0_"
      },
      "execution_count": null,
      "outputs": []
    },
    {
      "cell_type": "code",
      "source": [
        "distance=[]\n",
        "for i in range(len(a['valence'])):\n",
        "  distance.append(math.sqrt(lac[i]+ldab[i]+lenr[i]+lk[i]+llv[i]+lm[i]+lsp[i]+ltmp[i]+lvlc[i]))\n"
      ],
      "metadata": {
        "id": "P3TJduBnQfz8"
      },
      "execution_count": null,
      "outputs": []
    },
    {
      "cell_type": "code",
      "source": [
        "K = 15\n",
        "res = sorted(range(len(distance)), key = lambda sub: distance[sub])[:K]"
      ],
      "metadata": {
        "id": "tvxFEcbPTSXQ"
      },
      "execution_count": null,
      "outputs": []
    },
    {
      "cell_type": "code",
      "source": [
        "for i in res:\n",
        "  print(a['name'][i])"
      ],
      "metadata": {
        "colab": {
          "base_uri": "https://localhost:8080/"
        },
        "id": "ZRTynRadTpnq",
        "outputId": "98bf8ee7-75a2-456e-a551-9a5d4e82ef37"
      },
      "execution_count": null,
      "outputs": [
        {
          "output_type": "stream",
          "name": "stdout",
          "text": [
            "Car Crazy Cutie (Mono)\n",
            "Money Honey\n",
            "Golden Rainbow\n",
            "Good Old-Fashioned Lover Boy - 2011 Mix\n",
            "You Got It\n",
            "In the Evening by the Moonlight - Live at the Newport Jazz Festival, Newport, RI, June 30, 1960\n",
            "The Game - Narration\n",
            "Everybody Loves The Sunshine\n",
            "You've Got It - 2008 Remaster\n",
            "Por Esa Calle Vive\n",
            "The Immolation Scene\n",
            "Suonno 'e fantasia - Musical base Version\n",
            "Wonderful World - 2008 Remaster\n",
            "I Don't Want to Hear It Anymore\n",
            "Lafayette Railroad\n"
          ]
        }
      ]
    }
  ]
}