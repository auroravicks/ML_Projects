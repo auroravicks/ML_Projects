{
  "nbformat": 4,
  "nbformat_minor": 0,
  "metadata": {
    "colab": {
      "provenance": [],
      "authorship_tag": "ABX9TyNmAAbpKe2Mi/hQXNXq78l2",
      "include_colab_link": true
    },
    "kernelspec": {
      "name": "python3",
      "display_name": "Python 3"
    },
    "language_info": {
      "name": "python"
    }
  },
  "cells": [
    {
      "cell_type": "markdown",
      "metadata": {
        "id": "view-in-github",
        "colab_type": "text"
      },
      "source": [
        "<a href=\"https://colab.research.google.com/github/auroravicks/ML_Projects/blob/main/ML_Prac_(3%2B4%2B5).ipynb\" target=\"_parent\"><img src=\"https://colab.research.google.com/assets/colab-badge.svg\" alt=\"Open In Colab\"/></a>"
      ]
    },
    {
      "cell_type": "code",
      "execution_count": null,
      "metadata": {
        "colab": {
          "base_uri": "https://localhost:8080/",
          "height": 206
        },
        "id": "NjDcKW8dcGeo",
        "outputId": "b7f55ab5-b827-4e24-9df0-6dd7db5e8e02"
      },
      "outputs": [
        {
          "output_type": "execute_result",
          "data": {
            "text/plain": [
              "         date   meantemp   humidity  wind_speed  meanpressure\n",
              "0  2017-01-01  15.913043  85.869565    2.743478     59.000000\n",
              "1  2017-01-02  18.500000  77.222222    2.894444   1018.277778\n",
              "2  2017-01-03  17.111111  81.888889    4.016667   1018.333333\n",
              "3  2017-01-04  18.700000  70.050000    4.545000   1015.700000\n",
              "4  2017-01-05  18.388889  74.944444    3.300000   1014.333333"
            ],
            "text/html": [
              "\n",
              "  <div id=\"df-d6714983-eaae-4c40-9c86-f10e8b9660d6\">\n",
              "    <div class=\"colab-df-container\">\n",
              "      <div>\n",
              "<style scoped>\n",
              "    .dataframe tbody tr th:only-of-type {\n",
              "        vertical-align: middle;\n",
              "    }\n",
              "\n",
              "    .dataframe tbody tr th {\n",
              "        vertical-align: top;\n",
              "    }\n",
              "\n",
              "    .dataframe thead th {\n",
              "        text-align: right;\n",
              "    }\n",
              "</style>\n",
              "<table border=\"1\" class=\"dataframe\">\n",
              "  <thead>\n",
              "    <tr style=\"text-align: right;\">\n",
              "      <th></th>\n",
              "      <th>date</th>\n",
              "      <th>meantemp</th>\n",
              "      <th>humidity</th>\n",
              "      <th>wind_speed</th>\n",
              "      <th>meanpressure</th>\n",
              "    </tr>\n",
              "  </thead>\n",
              "  <tbody>\n",
              "    <tr>\n",
              "      <th>0</th>\n",
              "      <td>2017-01-01</td>\n",
              "      <td>15.913043</td>\n",
              "      <td>85.869565</td>\n",
              "      <td>2.743478</td>\n",
              "      <td>59.000000</td>\n",
              "    </tr>\n",
              "    <tr>\n",
              "      <th>1</th>\n",
              "      <td>2017-01-02</td>\n",
              "      <td>18.500000</td>\n",
              "      <td>77.222222</td>\n",
              "      <td>2.894444</td>\n",
              "      <td>1018.277778</td>\n",
              "    </tr>\n",
              "    <tr>\n",
              "      <th>2</th>\n",
              "      <td>2017-01-03</td>\n",
              "      <td>17.111111</td>\n",
              "      <td>81.888889</td>\n",
              "      <td>4.016667</td>\n",
              "      <td>1018.333333</td>\n",
              "    </tr>\n",
              "    <tr>\n",
              "      <th>3</th>\n",
              "      <td>2017-01-04</td>\n",
              "      <td>18.700000</td>\n",
              "      <td>70.050000</td>\n",
              "      <td>4.545000</td>\n",
              "      <td>1015.700000</td>\n",
              "    </tr>\n",
              "    <tr>\n",
              "      <th>4</th>\n",
              "      <td>2017-01-05</td>\n",
              "      <td>18.388889</td>\n",
              "      <td>74.944444</td>\n",
              "      <td>3.300000</td>\n",
              "      <td>1014.333333</td>\n",
              "    </tr>\n",
              "  </tbody>\n",
              "</table>\n",
              "</div>\n",
              "      <button class=\"colab-df-convert\" onclick=\"convertToInteractive('df-d6714983-eaae-4c40-9c86-f10e8b9660d6')\"\n",
              "              title=\"Convert this dataframe to an interactive table.\"\n",
              "              style=\"display:none;\">\n",
              "        \n",
              "  <svg xmlns=\"http://www.w3.org/2000/svg\" height=\"24px\"viewBox=\"0 0 24 24\"\n",
              "       width=\"24px\">\n",
              "    <path d=\"M0 0h24v24H0V0z\" fill=\"none\"/>\n",
              "    <path d=\"M18.56 5.44l.94 2.06.94-2.06 2.06-.94-2.06-.94-.94-2.06-.94 2.06-2.06.94zm-11 1L8.5 8.5l.94-2.06 2.06-.94-2.06-.94L8.5 2.5l-.94 2.06-2.06.94zm10 10l.94 2.06.94-2.06 2.06-.94-2.06-.94-.94-2.06-.94 2.06-2.06.94z\"/><path d=\"M17.41 7.96l-1.37-1.37c-.4-.4-.92-.59-1.43-.59-.52 0-1.04.2-1.43.59L10.3 9.45l-7.72 7.72c-.78.78-.78 2.05 0 2.83L4 21.41c.39.39.9.59 1.41.59.51 0 1.02-.2 1.41-.59l7.78-7.78 2.81-2.81c.8-.78.8-2.07 0-2.86zM5.41 20L4 18.59l7.72-7.72 1.47 1.35L5.41 20z\"/>\n",
              "  </svg>\n",
              "      </button>\n",
              "      \n",
              "  <style>\n",
              "    .colab-df-container {\n",
              "      display:flex;\n",
              "      flex-wrap:wrap;\n",
              "      gap: 12px;\n",
              "    }\n",
              "\n",
              "    .colab-df-convert {\n",
              "      background-color: #E8F0FE;\n",
              "      border: none;\n",
              "      border-radius: 50%;\n",
              "      cursor: pointer;\n",
              "      display: none;\n",
              "      fill: #1967D2;\n",
              "      height: 32px;\n",
              "      padding: 0 0 0 0;\n",
              "      width: 32px;\n",
              "    }\n",
              "\n",
              "    .colab-df-convert:hover {\n",
              "      background-color: #E2EBFA;\n",
              "      box-shadow: 0px 1px 2px rgba(60, 64, 67, 0.3), 0px 1px 3px 1px rgba(60, 64, 67, 0.15);\n",
              "      fill: #174EA6;\n",
              "    }\n",
              "\n",
              "    [theme=dark] .colab-df-convert {\n",
              "      background-color: #3B4455;\n",
              "      fill: #D2E3FC;\n",
              "    }\n",
              "\n",
              "    [theme=dark] .colab-df-convert:hover {\n",
              "      background-color: #434B5C;\n",
              "      box-shadow: 0px 1px 3px 1px rgba(0, 0, 0, 0.15);\n",
              "      filter: drop-shadow(0px 1px 2px rgba(0, 0, 0, 0.3));\n",
              "      fill: #FFFFFF;\n",
              "    }\n",
              "  </style>\n",
              "\n",
              "      <script>\n",
              "        const buttonEl =\n",
              "          document.querySelector('#df-d6714983-eaae-4c40-9c86-f10e8b9660d6 button.colab-df-convert');\n",
              "        buttonEl.style.display =\n",
              "          google.colab.kernel.accessAllowed ? 'block' : 'none';\n",
              "\n",
              "        async function convertToInteractive(key) {\n",
              "          const element = document.querySelector('#df-d6714983-eaae-4c40-9c86-f10e8b9660d6');\n",
              "          const dataTable =\n",
              "            await google.colab.kernel.invokeFunction('convertToInteractive',\n",
              "                                                     [key], {});\n",
              "          if (!dataTable) return;\n",
              "\n",
              "          const docLinkHtml = 'Like what you see? Visit the ' +\n",
              "            '<a target=\"_blank\" href=https://colab.research.google.com/notebooks/data_table.ipynb>data table notebook</a>'\n",
              "            + ' to learn more about interactive tables.';\n",
              "          element.innerHTML = '';\n",
              "          dataTable['output_type'] = 'display_data';\n",
              "          await google.colab.output.renderOutput(dataTable, element);\n",
              "          const docLink = document.createElement('div');\n",
              "          docLink.innerHTML = docLinkHtml;\n",
              "          element.appendChild(docLink);\n",
              "        }\n",
              "      </script>\n",
              "    </div>\n",
              "  </div>\n",
              "  "
            ]
          },
          "metadata": {},
          "execution_count": 1
        }
      ],
      "source": [
        "import pandas as pd\n",
        "import numpy as np\n",
        "import statistics as st\n",
        "import matplotlib.pyplot as plt\n",
        "\n",
        "df=pd.read_csv('climate.csv')\n",
        "df.head()"
      ]
    },
    {
      "cell_type": "code",
      "source": [
        "plt.boxplot(df['humidity'])\n",
        "#outlier detection"
      ],
      "metadata": {
        "colab": {
          "base_uri": "https://localhost:8080/",
          "height": 569
        },
        "id": "KSlP8-yPckCN",
        "outputId": "13bcef93-0a18-4231-c4f7-208d6d11fdc1"
      },
      "execution_count": null,
      "outputs": [
        {
          "output_type": "execute_result",
          "data": {
            "text/plain": [
              "{'whiskers': [<matplotlib.lines.Line2D at 0x7f20ae30af10>,\n",
              "  <matplotlib.lines.Line2D at 0x7f20ae2af1f0>],\n",
              " 'caps': [<matplotlib.lines.Line2D at 0x7f20ae2af490>,\n",
              "  <matplotlib.lines.Line2D at 0x7f20ae2af730>],\n",
              " 'boxes': [<matplotlib.lines.Line2D at 0x7f20ae2eb910>],\n",
              " 'medians': [<matplotlib.lines.Line2D at 0x7f20ae2af9d0>],\n",
              " 'fliers': [<matplotlib.lines.Line2D at 0x7f20ae2afc70>],\n",
              " 'means': []}"
            ]
          },
          "metadata": {},
          "execution_count": 2
        },
        {
          "output_type": "display_data",
          "data": {
            "text/plain": [
              "<Figure size 640x480 with 1 Axes>"
            ],
            "image/png": "[encoded data removed]"
          },
          "metadata": {}
        }
      ]
    },
    {
      "cell_type": "code",
      "source": [
        "a=df.humidity\n",
        "sum=0\n",
        "c=0\n",
        "for i in a:\n",
        "  if i<=100:\n",
        "    sum+=i\n",
        "    c+=1\n",
        "\n",
        "meanh=sum/c\n",
        "meanh\n",
        "\n",
        "i=0\n",
        "while i<114:\n",
        "  if a[i]>100 or a[i]<20:\n",
        "    a[i]=meanh\n",
        "  i+=1\n",
        "\n",
        "a\n",
        "\n",
        "l=len(a)"
      ],
      "metadata": {
        "id": "LtPHSFmzdq-U",
        "colab": {
          "base_uri": "https://localhost:8080/"
        },
        "outputId": "855a9d6b-629d-48cf-bf7d-591b18d9dbd6"
      },
      "execution_count": null,
      "outputs": [
        {
          "output_type": "stream",
          "name": "stderr",
          "text": [
            "<ipython-input-3-b2648005fea1>:15: SettingWithCopyWarning: \n",
            "A value is trying to be set on a copy of a slice from a DataFrame\n",
            "\n",
            "See the caveats in the documentation: https://pandas.pydata.org/pandas-docs/stable/user_guide/indexing.html#returning-a-view-versus-a-copy\n",
            "  a[i]=meanh\n"
          ]
        }
      ]
    },
    {
      "cell_type": "code",
      "source": [
        "import sklearn as sk\n",
        "lr=plt.scatter(df['date'],a)\n",
        "\n",
        "r=[i for i in range(10,124)]\n",
        "\n"
      ],
      "metadata": {
        "id": "pH-1azapjzIH",
        "colab": {
          "base_uri": "https://localhost:8080/",
          "height": 430
        },
        "outputId": "0837d98f-97c9-4575-eb58-6335be307af3"
      },
      "execution_count": null,
      "outputs": [
        {
          "output_type": "display_data",
          "data": {
            "text/plain": [
              "<Figure size 640x480 with 1 Axes>"
            ],
            "image/png": "[encoded data removed]"
          },
          "metadata": {}
        }
      ]
    },
    {
      "cell_type": "code",
      "source": [
        "X=df.drop('humidity', axis=1)\n",
        "X=X.drop('date',axis=1)\n",
        "y=df['humidity']\n",
        "from sklearn.model_selection import train_test_split\n",
        "x_train, x_test, y_train, y_test = train_test_split(X, y, test_size=2, random_state=4)\n",
        "#preprocessing"
      ],
      "metadata": {
        "id": "HkvOv7lfVt12"
      },
      "execution_count": null,
      "outputs": []
    },
    {
      "cell_type": "code",
      "source": [
        "from sklearn.linear_model import LinearRegression\n",
        "\n",
        "from sklearn.metrics import mean_squared_error, r2_score\n",
        "\n",
        "regression_model = LinearRegression()\n",
        "\n",
        "regression_model.fit(x_train, y_train)\n",
        "\n",
        "y_predicted = regression_model.predict(x_test)\n",
        "\n",
        "rmse = mean_squared_error(y_test, y_predicted)\n",
        "\n",
        "r2 = r2_score(y_test, y_predicted)\n",
        "r2,rmse\n",
        "#linear regression"
      ],
      "metadata": {
        "colab": {
          "base_uri": "https://localhost:8080/"
        },
        "id": "AzBAHTV0f9vg",
        "outputId": "2e4c191a-490d-4dd2-eb50-11ccb007390c"
      },
      "execution_count": null,
      "outputs": [
        {
          "output_type": "execute_result",
          "data": {
            "text/plain": [
              "(-5.165896302375949, 89.243934702958)"
            ]
          },
          "metadata": {},
          "execution_count": 20
        }
      ]
    }
  ]
}